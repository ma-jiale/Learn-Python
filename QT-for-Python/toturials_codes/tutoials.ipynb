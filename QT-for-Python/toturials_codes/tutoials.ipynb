{
 "cells": [
  {
   "cell_type": "markdown",
   "metadata": {},
   "source": [
    "### First QtWidgets Application\n",
    "a simple example of a Hello World application in PySide6"
   ]
  },
  {
   "cell_type": "code",
   "execution_count": null,
   "metadata": {},
   "outputs": [],
   "source": [
    "import sys\n",
    "from PySide6.QtWidgets import QApplication, QLabel\n",
    "\n",
    "app = QApplication(sys.argv)\n",
    "label = QLabel(\"Hello World!\")\n",
    "label = QLabel(\"<font color=red size=40>Hello World!</font>\") \n",
    "label.show()\n",
    "app.exec()"
   ]
  },
  {
   "cell_type": "markdown",
   "metadata": {},
   "source": [
    "### Using a Simple Button\n",
    "Signals and slots is a Qt feature that lets your graphical widgets communicate with other graphical widgets or your python code. this application creates a button that logs the Button clicked, Hello! message to the python console each time you click it."
   ]
  },
  {
   "cell_type": "code",
   "execution_count": null,
   "metadata": {},
   "outputs": [],
   "source": [
    "import sys\n",
    "from PySide6.QtWidgets import QApplication, QPushButton\n",
    "from PySide6.QtCore import Slot\n",
    "\n",
    "@Slot()\n",
    "def say_hello():\n",
    " print(\"Button clicked, Hello!\")\n",
    "\n",
    "# Create the Qt Application\n",
    "app = QApplication(sys.argv)\n",
    "# Create a button, connect it and show it\n",
    "button = QPushButton(\"Click me\")\n",
    "button.clicked.connect(say_hello)\n",
    "button.show()\n",
    "# Run the main Qt loop\n",
    "app.exec()"
   ]
  },
  {
   "cell_type": "markdown",
   "metadata": {},
   "source": [
    "### Signals and Slots"
   ]
  },
  {
   "cell_type": "markdown",
   "metadata": {},
   "source": [
    "##### Example: Implement a button to clear the text\n",
    "QAbstractButton (base class of buttons in Qt) has a clicked() signal and QLineEdit (single line input field) has a slot named clear(). So, a text input field with a button to clear the text could be implemented by placing a QToolButton to the right of the QLineEdit and connecting its clicked() signal to the slot clear(). This is done using the connect() method of the signal:"
   ]
  },
  {
   "cell_type": "code",
   "execution_count": null,
   "metadata": {},
   "outputs": [],
   "source": [
    "button = QToolButton()\n",
    "line_edit = QLineEdit()\n",
    "button.clicked.connect(line_edit.clear)"
   ]
  },
  {
   "cell_type": "markdown",
   "metadata": {},
   "source": [
    "full code"
   ]
  },
  {
   "cell_type": "code",
   "execution_count": null,
   "metadata": {},
   "outputs": [],
   "source": [
    "import sys\n",
    "from PySide6.QtWidgets import (QLineEdit, QToolButton, QApplication, \n",
    "                              QWidget, QHBoxLayout)\n",
    "\n",
    "# Create application with command line arguments\n",
    "app = QApplication(sys.argv)\n",
    "\n",
    "# Create a container widget\n",
    "widget = QWidget()\n",
    "\n",
    "# Create button and line edit\n",
    "button = QToolButton()\n",
    "button.setText(\"Clear\")\n",
    "line_edit = QLineEdit()\n",
    "\n",
    "# Connect button's clicked signal to line_edit's clear slot\n",
    "button.clicked.connect(line_edit.clear)\n",
    "\n",
    "# Create layout and add widgets\n",
    "layout = QHBoxLayout()\n",
    "layout.addWidget(line_edit)\n",
    "layout.addWidget(button)\n",
    "\n",
    "# Set layout for the widget\n",
    "widget.setLayout(layout)\n",
    "\n",
    "# Set window title and show it\n",
    "widget.setWindowTitle(\"Line Edit with Clear Button\")\n",
    "widget.show()\n",
    "\n",
    "# Start the event loop\n",
    "sys.exit(app.exec())"
   ]
  },
  {
   "cell_type": "markdown",
   "metadata": {},
   "source": [
    "Signals can also be connected to free functions"
   ]
  },
  {
   "cell_type": "code",
   "execution_count": null,
   "metadata": {},
   "outputs": [],
   "source": [
    "import sys\n",
    "from PySide6.QtWidgets import QApplication, QPushButton\n",
    "\n",
    "\n",
    "def function():\n",
    "    print(\"The 'function' has been called!\")\n",
    "\n",
    "app = QApplication()\n",
    "button = QPushButton(\"Call function\")\n",
    "button.clicked.connect(function)\n",
    "button.show()\n",
    "sys.exit(app.exec())"
   ]
  },
  {
   "cell_type": "markdown",
   "metadata": {},
   "source": [
    "#### The Signal Class"
   ]
  },
  {
   "cell_type": "code",
   "execution_count": null,
   "metadata": {},
   "outputs": [],
   "source": [
    "from PySide6.QtCore import Qt, Signal\n",
    "from PySide6.QtWidgets import QWidget\n",
    "\n",
    "class Button(QWidget):\n",
    "\n",
    "    clicked = Signal(Qt.MouseButton)\n",
    "\n",
    "    ...\n",
    "\n",
    "    def mousePressEvent(self, event):\n",
    "        self.clicked.emit(event.button())"
   ]
  },
  {
   "cell_type": "markdown",
   "metadata": {},
   "source": [
    "#### The Slot Class\n",
    "Slots in QObject-derived classes should be indicated by the decorator @Slot. Again, to define a signature just pass the types similar to the Signal class."
   ]
  },
  {
   "cell_type": "code",
   "execution_count": null,
   "metadata": {},
   "outputs": [],
   "source": [
    "@Slot(str)\n",
    "def slot_function(self, s):\n",
    "    ..."
   ]
  },
  {
   "cell_type": "markdown",
   "metadata": {},
   "source": [
    "#### Overloading Signals and Slots with Different Types"
   ]
  },
  {
   "cell_type": "code",
   "execution_count": null,
   "metadata": {},
   "outputs": [],
   "source": [
    "import sys\n",
    "from PySide6.QtWidgets import QApplication, QPushButton\n",
    "from PySide6.QtCore import QObject, Signal, Slot\n",
    "\n",
    "\n",
    "class Communicate(QObject):\n",
    "    # create two new signals on the fly: one will handle\n",
    "    # int type, the other will handle strings\n",
    "    speak = Signal((int,), (str,))\n",
    "\n",
    "    def __init__(self, parent=None):\n",
    "        super().__init__(parent)\n",
    "\n",
    "        self.speak[int].connect(self.say_something)\n",
    "        self.speak[str].connect(self.say_something)\n",
    "\n",
    "    # define a new slot that receives a C 'int' or a 'str'\n",
    "    # and has 'say_something' as its name\n",
    "    @Slot(int)\n",
    "    @Slot(str)\n",
    "    def say_something(self, arg):\n",
    "        if isinstance(arg, int):\n",
    "            print(\"This is a number:\", arg)\n",
    "        elif isinstance(arg, str):\n",
    "            print(\"This is a string:\", arg)\n",
    "\n",
    "if __name__ == \"__main__\":\n",
    "    app = QApplication(sys.argv)\n",
    "    someone = Communicate()\n",
    "\n",
    "    # emit 'speak' signal with different arguments.\n",
    "    # we have to specify the str as int is the default\n",
    "    someone.speak.emit(10)\n",
    "    someone.speak[str].emit(\"Hello everybody!\")"
   ]
  },
  {
   "cell_type": "markdown",
   "metadata": {},
   "source": [
    "### Creating a Dialog Application"
   ]
  },
  {
   "cell_type": "code",
   "execution_count": null,
   "metadata": {},
   "outputs": [],
   "source": [
    "import sys\n",
    "from PySide6.QtWidgets import (QLineEdit, QPushButton, QApplication, QLabel,\n",
    "    QVBoxLayout, QDialog)\n",
    "\n",
    "class Form(QDialog):\n",
    "\n",
    "    def __init__(self, parent=None):\n",
    "        super(Form, self).__init__(parent)\n",
    "        # Create widgets\n",
    "        self.edit = QLineEdit(\"Write my name here\")\n",
    "        self.button = QPushButton(\"Show Greetings\")\n",
    "        self.label = QLabel()\n",
    "        # Create layout and add widgets\n",
    "        layout = QVBoxLayout()\n",
    "        layout.addWidget(self.edit)\n",
    "        layout.addWidget(self.button)\n",
    "        layout.addWidget(self.label)\n",
    "        \n",
    "        # Set dialog layout\n",
    "        self.setLayout(layout)\n",
    "        # Add button signal to greetings slot\n",
    "        self.button.clicked.connect(self.greetings)\n",
    "\n",
    "    # Greets the user\n",
    "    def greetings(self):\n",
    "        print(f\"Hello {self.edit.text()}\")\n",
    "        self.label.setText(f\"Hello {self.edit.text()}\")\n",
    "\n",
    "if __name__ == '__main__':\n",
    "    # Create the Qt Application\n",
    "    app = QApplication(sys.argv)\n",
    "    # Create and show the form\n",
    "    form = Form()\n",
    "    form.show()\n",
    "    # Run the main Qt loop\n",
    "    sys.exit(app.exec())"
   ]
  },
  {
   "cell_type": "markdown",
   "metadata": {},
   "source": [
    "### Displaying Data Using a Table Widget"
   ]
  },
  {
   "cell_type": "code",
   "execution_count": null,
   "metadata": {},
   "outputs": [],
   "source": [
    "import sys\n",
    "from PySide6.QtGui import QColor\n",
    "from PySide6.QtWidgets import (QApplication, QTableWidget,\n",
    "                               QTableWidgetItem)\n",
    "\n",
    "colors = [(\"Red\", \"#FF0000\"),\n",
    "          (\"Green\", \"#00FF00\"),\n",
    "          (\"Blue\", \"#0000FF\"),\n",
    "          (\"Black\", \"#000000\"),\n",
    "          (\"White\", \"#FFFFFF\"),\n",
    "          (\"Electric Green\", \"#41CD52\"),\n",
    "          (\"Dark Blue\", \"#222840\"),\n",
    "          (\"Yellow\", \"#F9E56d\")]\n",
    "\n",
    "def get_rgb_from_hex(code):\n",
    "    code_hex = code.replace(\"#\", \"\")\n",
    "    rgb = tuple(int(code_hex[i:i+2], 16) for i in (0, 2, 4))\n",
    "    return QColor.fromRgb(rgb[0], rgb[1], rgb[2])\n",
    "\n",
    "app = QApplication()\n",
    "\n",
    "table = QTableWidget()\n",
    "table.setRowCount(len(colors))\n",
    "table.setColumnCount(len(colors[0]) + 1)\n",
    "table.setHorizontalHeaderLabels([\"Name\", \"Hex Code\", \"Color\"])\n",
    "\n",
    "for i, (name, code) in enumerate(colors):\n",
    "    item_name = QTableWidgetItem(name)\n",
    "    item_code = QTableWidgetItem(code)\n",
    "    item_color = QTableWidgetItem()\n",
    "    item_color.setBackground(get_rgb_from_hex(code))\n",
    "    table.setItem(i, 0, item_name)\n",
    "    table.setItem(i, 1, item_code)\n",
    "    table.setItem(i, 2, item_color)\n",
    "\n",
    "table.show()\n",
    "\n",
    "sys.exit(app.exec())"
   ]
  },
  {
   "cell_type": "markdown",
   "metadata": {},
   "source": [
    "### Displaying Data Using a Tree Widget"
   ]
  },
  {
   "cell_type": "code",
   "execution_count": null,
   "metadata": {},
   "outputs": [],
   "source": [
    "import sys\n",
    "from PySide6.QtWidgets import QApplication, QTreeWidget, QTreeWidgetItem\n",
    "\n",
    "data = {\"Project A\": [\"file_a.py\", \"file_a.txt\", \"something.xls\"],\n",
    "        \"Project B\": [\"file_b.csv\", \"photo.jpg\"],\n",
    "        \"Project C\": [\"file_c.md\", \"photo_2.png\", \"app.exe\"]}\n",
    "\n",
    "app = QApplication()\n",
    "tree = QTreeWidget()\n",
    "tree.setColumnCount(2)\n",
    "tree.setHeaderLabels([\"Name\", \"Type\"])\n",
    "\n",
    "items = []\n",
    "for key, values in data.items():\n",
    "    item = QTreeWidgetItem([key])\n",
    "    for value in values:\n",
    "        ext = value.split(\".\")[-1].upper()\n",
    "        child = QTreeWidgetItem([value, ext])\n",
    "        item.addChild(child)\n",
    "    items.append(item)\n",
    "\n",
    "tree.insertTopLevelItems(0, items)\n",
    "\n",
    "tree.show()\n",
    "sys.exit(app.exec())"
   ]
  },
  {
   "cell_type": "markdown",
   "metadata": {},
   "source": [
    "### Using .ui files from Designer with QUiLoader and pyside6-uic"
   ]
  },
  {
   "cell_type": "markdown",
   "metadata": {},
   "source": [
    "Install pyqt6-tools"
   ]
  },
  {
   "cell_type": "code",
   "execution_count": null,
   "metadata": {
    "vscode": {
     "languageId": "powershell"
    }
   },
   "outputs": [],
   "source": [
    "pip install pyqt6-tools"
   ]
  },
  {
   "cell_type": "markdown",
   "metadata": {},
   "source": [
    "After installation we can run Qt Designer from the command line using the built-in launcher."
   ]
  },
  {
   "cell_type": "code",
   "execution_count": null,
   "metadata": {
    "vscode": {
     "languageId": "powershell"
    }
   },
   "outputs": [
    {
     "ename": "SyntaxError",
     "evalue": "invalid syntax (1244965852.py, line 1)",
     "output_type": "error",
     "traceback": [
      "\u001b[1;36m  Cell \u001b[1;32mIn[6], line 1\u001b[1;36m\u001b[0m\n\u001b[1;33m    pyqt6-tools designer\u001b[0m\n\u001b[1;37m                ^\u001b[0m\n\u001b[1;31mSyntaxError\u001b[0m\u001b[1;31m:\u001b[0m invalid syntax\n"
     ]
    },
    {
     "ename": "",
     "evalue": "",
     "output_type": "error",
     "traceback": [
      "\u001b[1;31mThe Kernel crashed while executing code in the current cell or a previous cell. \n",
      "\u001b[1;31mPlease review the code in the cell(s) to identify a possible cause of the failure. \n",
      "\u001b[1;31mClick <a href='https://aka.ms/vscodeJupyterKernelCrash'>here</a> for more info. \n",
      "\u001b[1;31mView Jupyter <a href='command:jupyter.viewOutput'>log</a> for further details."
     ]
    }
   ],
   "source": [
    "pyqt6-tools designer"
   ]
  },
  {
   "cell_type": "markdown",
   "metadata": {},
   "source": [
    "#### Option A: Generating a Python class from .ui files"
   ]
  },
  {
   "cell_type": "code",
   "execution_count": null,
   "metadata": {
    "vscode": {
     "languageId": "powershell"
    }
   },
   "outputs": [],
   "source": [
    "pyside6-uic mainwindow.ui -o ui_mainwindow.py"
   ]
  },
  {
   "cell_type": "code",
   "execution_count": null,
   "metadata": {},
   "outputs": [],
   "source": [
    "import sys\n",
    "from PySide6.QtWidgets import QApplication, QMainWindow\n",
    "from PySide6.QtCore import QFile\n",
    "from MainWindow_ui import Ui_MainWindow\n",
    "\n",
    "class MainWindow(QMainWindow):\n",
    "    def __init__(self):\n",
    "        super(MainWindow, self).__init__()\n",
    "        self.ui = Ui_MainWindow()\n",
    "        self.ui.setupUi(self)\n",
    "\n",
    "if __name__ == \"__main__\":\n",
    "    app = QApplication(sys.argv)\n",
    "\n",
    "    window = MainWindow()\n",
    "    window.show()\n",
    "\n",
    "    sys.exit(app.exec())"
   ]
  },
  {
   "cell_type": "markdown",
   "metadata": {},
   "source": [
    "#### Option B: Loading it directly"
   ]
  },
  {
   "cell_type": "code",
   "execution_count": null,
   "metadata": {},
   "outputs": [],
   "source": [
    "# File: main.py\n",
    "import sys\n",
    "from PySide6.QtUiTools import QUiLoader\n",
    "from PySide6.QtWidgets import QApplication\n",
    "from PySide6.QtCore import QFile, QIODevice\n",
    "\n",
    "if __name__ == \"__main__\":\n",
    "    app = QApplication(sys.argv)\n",
    "\n",
    "    ui_file_name = \"MainWindow.ui\"\n",
    "    ui_file = QFile(ui_file_name)\n",
    "    if not ui_file.open(QIODevice.ReadOnly):\n",
    "        print(f\"Cannot open {ui_file_name}: {ui_file.errorString()}\")\n",
    "        sys.exit(-1)\n",
    "    loader = QUiLoader()\n",
    "    window = loader.load(ui_file)\n",
    "    ui_file.close()\n",
    "    if not window:\n",
    "        print(loader.errorString())\n",
    "        sys.exit(-1)\n",
    "    window.show()\n",
    "\n",
    "    sys.exit(app.exec())"
   ]
  },
  {
   "cell_type": "markdown",
   "metadata": {},
   "source": [
    "### Using .qrc Files (pyside6-rcc)"
   ]
  },
  {
   "cell_type": "markdown",
   "metadata": {},
   "source": [
    "#### The .qrc file\n",
    "\n",
    "Before running any command, add information about the resources to a .qrc file. In the following example, notice how the resources are listed in icons.qrc"
   ]
  },
  {
   "cell_type": "code",
   "execution_count": null,
   "metadata": {
    "vscode": {
     "languageId": "xml"
    }
   },
   "outputs": [],
   "source": [
    "<!DOCTYPE RCC><RCC version=\"1.0\">\n",
    "<qresource>\n",
    "    <file>icons/play.png</file>\n",
    "    <file>icons/pause.png</file>\n",
    "    <file>icons/stop.png</file>\n",
    "    <file>icons/previous.png</file>\n",
    "    <file>icons/forward.png</file>\n",
    "</qresource>\n",
    "</RCC>"
   ]
  },
  {
   "cell_type": "markdown",
   "metadata": {},
   "source": [
    "#### Generating a Python file"
   ]
  },
  {
   "cell_type": "code",
   "execution_count": null,
   "metadata": {
    "vscode": {
     "languageId": "powershell"
    }
   },
   "outputs": [],
   "source": [
    "pyside6-rcc icons.qrc -o rc_icons.py"
   ]
  },
  {
   "cell_type": "markdown",
   "metadata": {
    "vscode": {
     "languageId": "powershell"
    }
   },
   "source": [
    "#### Changes in the code"
   ]
  },
  {
   "cell_type": "code",
   "execution_count": null,
   "metadata": {},
   "outputs": [],
   "source": [
    "from PySide6.QtCore import QUrl, Qt, QStandardPaths\n",
    "from PySide6.QtGui import QAction, QIcon, QKeySequence, QPixmap\n",
    "from PySide6.QtWidgets import (QApplication, QFileDialog, QMainWindow, \n",
    "                              QStatusBar, QStyle, QToolBar)\n",
    "from PySide6.QtMultimedia import QAudioOutput, QMediaPlayer, QMediaFormat\n",
    "import sys\n",
    "import icons_rc\n",
    "\n",
    "class MainWindow(QMainWindow):\n",
    "    def __init__(self):\n",
    "        super().__init__()\n",
    "\n",
    "        self._playlist = []\n",
    "        self._playlist_index = -1\n",
    "        self._audio_output = QAudioOutput()\n",
    "        self._player = QMediaPlayer()\n",
    "        self._player.setAudioOutput(self._audio_output)\n",
    "\n",
    "        self._player.errorOccurred.connect(self._player_error)\n",
    "        self._player.playbackStateChanged.connect(self._update_buttons)\n",
    "        self._player.mediaStatusChanged.connect(self._media_status_changed)\n",
    "\n",
    "        self.setWindowTitle(\"Music Player\")\n",
    "        self.resize(800, 600)\n",
    "\n",
    "        tool_bar = QToolBar()\n",
    "        self.addToolBar(tool_bar)\n",
    "\n",
    "        file_menu = self.menuBar().addMenu(\"&File\")\n",
    "        icon = QIcon.fromTheme(QIcon.ThemeIcon.DocumentOpen)\n",
    "        open_action = QAction(icon, \"&Open...\", self,\n",
    "                            shortcut=QKeySequence.Open, triggered=self.open)\n",
    "        file_menu.addAction(open_action)\n",
    "        tool_bar.addAction(open_action)\n",
    "        icon = QIcon.fromTheme(QIcon.ThemeIcon.ApplicationExit)\n",
    "        exit_action = QAction(icon, \"E&xit\", self,\n",
    "                            shortcut=\"Ctrl+Q\", triggered=self.close)\n",
    "        file_menu.addAction(exit_action)\n",
    "\n",
    "        play_menu = self.menuBar().addMenu(\"&Play\")\n",
    "        playIcon = QIcon(QPixmap(\":/icons/play.png\"))\n",
    "        self._play_action = tool_bar.addAction(playIcon, \"Play\")\n",
    "        self._play_action.triggered.connect(self._player.play)\n",
    "        play_menu.addAction(self._play_action)\n",
    "\n",
    "        previousIcon = QIcon(QPixmap(\":/icons/previous.png\"))\n",
    "        self._previous_action = tool_bar.addAction(previousIcon, \"Previous\")\n",
    "        self._previous_action.triggered.connect(self.previous_clicked)\n",
    "        play_menu.addAction(self._previous_action)\n",
    "\n",
    "        pauseIcon = QIcon(QPixmap(\":/icons/pause.png\"))\n",
    "        self._pause_action = tool_bar.addAction(pauseIcon, \"Pause\")\n",
    "        self._pause_action.triggered.connect(self._player.pause)\n",
    "        play_menu.addAction(self._pause_action)\n",
    "\n",
    "        nextIcon = QIcon(QPixmap(\":/icons/forward.png\"))\n",
    "        self._next_action = tool_bar.addAction(nextIcon, \"Next\")\n",
    "        self._next_action.triggered.connect(self.next_clicked)\n",
    "        play_menu.addAction(self._next_action)\n",
    "\n",
    "        stopIcon = QIcon(QPixmap(\":/icons/stop.png\"))\n",
    "        self._stop_action = tool_bar.addAction(stopIcon, \"Stop\")\n",
    "        self._stop_action.triggered.connect(self._ensure_stopped)\n",
    "        play_menu.addAction(self._stop_action)\n",
    "\n",
    "        self.statusBar().showMessage(\"Ready\")\n",
    "        \n",
    "        # Set initial button states\n",
    "        self._update_buttons(QMediaPlayer.PlaybackState.StoppedState)\n",
    "\n",
    "    def open(self):\n",
    "        music_folder = QStandardPaths.writableLocation(QStandardPaths.MusicLocation)\n",
    "        file_dialog = QFileDialog(self)\n",
    "        file_dialog.setAcceptMode(QFileDialog.AcceptOpen)\n",
    "        file_dialog.setWindowTitle(\"Open Audio Files\")\n",
    "        file_dialog.setDirectory(music_folder)\n",
    "        \n",
    "        supported_mimetypes = QMediaFormat.supportedMimeTypes(QMediaFormat.ConversionMode.Decode)\n",
    "        if supported_mimetypes:\n",
    "            file_dialog.setMimeTypeFilters(supported_mimetypes)\n",
    "        \n",
    "        if file_dialog.exec() == QFileDialog.Accepted:\n",
    "            self._playlist = file_dialog.selectedUrls()\n",
    "            self._playlist_index = 0\n",
    "            self._player.setSource(self._playlist[0])\n",
    "            self._update_buttons(self._player.playbackState())\n",
    "            self._player.play()\n",
    "\n",
    "    def previous_clicked(self):\n",
    "        # Skip to previous track if we're within the first few seconds of current track\n",
    "        if self._player.position() <= 3000 and self._playlist_index > 0:\n",
    "            self._playlist_index -= 1\n",
    "            self._player.setSource(self._playlist[self._playlist_index])\n",
    "            self._player.play()\n",
    "        else:\n",
    "            # Otherwise just restart the current track\n",
    "            self._player.setPosition(0)\n",
    "\n",
    "    def next_clicked(self):\n",
    "        if self._playlist_index < len(self._playlist) - 1:\n",
    "            self._playlist_index += 1\n",
    "            self._player.setSource(self._playlist[self._playlist_index])\n",
    "            self._player.play()\n",
    "\n",
    "    def _ensure_stopped(self):\n",
    "        if self._player.playbackState() != QMediaPlayer.PlaybackState.StoppedState:\n",
    "            self._player.stop()\n",
    "\n",
    "    def _player_error(self, error, error_string):\n",
    "        self.statusBar().showMessage(f\"Error: {error_string}\")\n",
    "\n",
    "    def _update_buttons(self, state):\n",
    "        is_stopped = state == QMediaPlayer.PlaybackState.StoppedState\n",
    "        is_playing = state == QMediaPlayer.PlaybackState.PlayingState\n",
    "        \n",
    "        self._play_action.setEnabled(is_stopped or not is_playing)\n",
    "        self._pause_action.setEnabled(is_playing)\n",
    "        self._stop_action.setEnabled(not is_stopped)\n",
    "        \n",
    "        # Update previous/next buttons based on playlist position\n",
    "        self._previous_action.setEnabled(self._playlist_index > 0)\n",
    "        self._next_action.setEnabled(self._playlist_index < len(self._playlist) - 1)\n",
    "\n",
    "    def _media_status_changed(self, status):\n",
    "        if status == QMediaPlayer.MediaStatus.EndOfMedia:\n",
    "            self.next_clicked()  # Auto-play next track when current one ends\n",
    "\n",
    "if __name__ == \"__main__\":\n",
    "    app = QApplication(sys.argv)\n",
    "    window = MainWindow()\n",
    "    window.show()\n",
    "    sys.exit(app.exec())"
   ]
  },
  {
   "cell_type": "markdown",
   "metadata": {},
   "source": [
    "### Styling the Widgets Application"
   ]
  },
  {
   "cell_type": "markdown",
   "metadata": {},
   "source": [
    "A QLabel can be styled differently by setting some of its CSS properties"
   ]
  },
  {
   "cell_type": "code",
   "execution_count": null,
   "metadata": {},
   "outputs": [],
   "source": [
    "import sys\n",
    "from PySide6.QtCore import Qt\n",
    "from PySide6.QtWidgets import QApplication, QLabel\n",
    "\n",
    "if __name__ == \"__main__\":\n",
    "    app = QApplication()\n",
    "    w = QLabel(\"This is a placeholder text\")\n",
    "    w.setAlignment(Qt.AlignCenter)\n",
    "    w.setStyleSheet(\"\"\"\n",
    "        background-color: #262626;\n",
    "        color: #FFFFFF;\n",
    "        font-family: Titillium;\n",
    "        font-size: 18px;\n",
    "        \"\"\")\n",
    "    w.show()\n",
    "    sys.exit(app.exec())"
   ]
  },
  {
   "cell_type": "markdown",
   "metadata": {},
   "source": [
    "use Qt Style Sheets"
   ]
  },
  {
   "cell_type": "code",
   "execution_count": null,
   "metadata": {},
   "outputs": [],
   "source": [
    "import sys\n",
    "from PySide6.QtWidgets import (\n",
    "    QApplication,\n",
    "    QWidget,\n",
    "    QListWidget,\n",
    "    QListWidgetItem,\n",
    "    QLabel,\n",
    "    QPushButton,\n",
    "    QVBoxLayout,\n",
    "    QHBoxLayout\n",
    ")\n",
    "from PySide6.QtCore import Qt\n",
    "\n",
    "# 你还需要定义 _placeholder 变量，这在你的代码中被引用了但未定义\n",
    "_placeholder = \"This is a placeholder text for demonstration.\"\n",
    "\n",
    "class Widget(QWidget):\n",
    "    def __init__(self, parent=None):\n",
    "        super(Widget, self).__init__(parent)\n",
    "\n",
    "        menu_widget = QListWidget()\n",
    "        for i in range(10):\n",
    "            item = QListWidgetItem(f\"Item {i}\")\n",
    "            item.setTextAlignment(Qt.AlignCenter)\n",
    "            menu_widget.addItem(item)\n",
    "\n",
    "        text_widget = QLabel(_placeholder)\n",
    "        text_widget.setObjectName(\"text_widget\")\n",
    "        button = QPushButton(\"Something\")\n",
    "\n",
    "        content_layout = QVBoxLayout()\n",
    "        content_layout.addWidget(text_widget)\n",
    "        content_layout.addWidget(button)\n",
    "        main_widget = QWidget()\n",
    "        main_widget.setLayout(content_layout)\n",
    "\n",
    "        layout = QHBoxLayout()\n",
    "        layout.addWidget(menu_widget, 1)\n",
    "        layout.addWidget(main_widget, 4)\n",
    "        self.setLayout(layout)\n",
    "if __name__ == \"__main__\":\n",
    "    app = QApplication(sys.argv)\n",
    "\n",
    "    w = Widget()\n",
    "    w.show()\n",
    "\n",
    "    with open(\"style.qss\", \"r\") as f:\n",
    "        _style = f.read()\n",
    "        print(_style)\n",
    "        app.setStyleSheet(_style)\n",
    "\n",
    "    sys.exit(app.exec())"
   ]
  }
 ],
 "metadata": {
  "kernelspec": {
   "display_name": "qt4python",
   "language": "python",
   "name": "python3"
  },
  "language_info": {
   "codemirror_mode": {
    "name": "ipython",
    "version": 3
   },
   "file_extension": ".py",
   "mimetype": "text/x-python",
   "name": "python",
   "nbconvert_exporter": "python",
   "pygments_lexer": "ipython3",
   "version": "3.10.12"
  }
 },
 "nbformat": 4,
 "nbformat_minor": 2
}
