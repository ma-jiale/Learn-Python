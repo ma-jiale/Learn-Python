{
 "cells": [
  {
   "cell_type": "markdown",
   "metadata": {},
   "source": [
    "### First QtWidgets Application\n",
    "a simple example of a Hello World application in PySide6"
   ]
  },
  {
   "cell_type": "code",
   "execution_count": null,
   "metadata": {},
   "outputs": [],
   "source": [
    "import sys\n",
    "from PySide6.QtWidgets import QApplication, QLabel\n",
    "\n",
    "app = QApplication(sys.argv)\n",
    "label = QLabel(\"Hello World!\")\n",
    "label = QLabel(\"<font color=red size=40>Hello World!</font>\") \n",
    "label.show()\n",
    "app.exec()"
   ]
  },
  {
   "cell_type": "markdown",
   "metadata": {},
   "source": [
    "### Using a Simple Button\n",
    "Signals and slots is a Qt feature that lets your graphical widgets communicate with other graphical widgets or your python code. this application creates a button that logs the Button clicked, Hello! message to the python console each time you click it."
   ]
  },
  {
   "cell_type": "code",
   "execution_count": null,
   "metadata": {},
   "outputs": [],
   "source": [
    "import sys\n",
    "from PySide6.QtWidgets import QApplication, QPushButton\n",
    "from PySide6.QtCore import Slot\n",
    "\n",
    "@Slot()\n",
    "def say_hello():\n",
    " print(\"Button clicked, Hello!\")\n",
    "\n",
    "# Create the Qt Application\n",
    "app = QApplication(sys.argv)\n",
    "# Create a button, connect it and show it\n",
    "button = QPushButton(\"Click me\")\n",
    "button.clicked.connect(say_hello)\n",
    "button.show()\n",
    "# Run the main Qt loop\n",
    "app.exec()"
   ]
  },
  {
   "cell_type": "markdown",
   "metadata": {},
   "source": [
    "### Signals and Slots"
   ]
  },
  {
   "cell_type": "code",
   "execution_count": 1,
   "metadata": {},
   "outputs": [
    {
     "name": "stdout",
     "output_type": "stream",
     "text": [
      "The 'function' has been called!\n"
     ]
    },
    {
     "ename": "SystemExit",
     "evalue": "0",
     "output_type": "error",
     "traceback": [
      "An exception has occurred, use %tb to see the full traceback.\n",
      "\u001b[1;31mSystemExit\u001b[0m\u001b[1;31m:\u001b[0m 0\n"
     ]
    },
    {
     "name": "stderr",
     "output_type": "stream",
     "text": [
      "c:\\Users\\MaJiale\\.conda\\envs\\qt4python\\lib\\site-packages\\IPython\\core\\interactiveshell.py:3587: UserWarning: To exit: use 'exit', 'quit', or Ctrl-D.\n",
      "  warn(\"To exit: use 'exit', 'quit', or Ctrl-D.\", stacklevel=1)\n"
     ]
    }
   ],
   "source": [
    "import sys\n",
    "from PySide6.QtWidgets import QApplication, QPushButton\n",
    "\n",
    "\n",
    "def function():\n",
    "    print(\"The 'function' has been called!\")\n",
    "\n",
    "app = QApplication()\n",
    "button = QPushButton(\"Call function\")\n",
    "button.clicked.connect(function)\n",
    "button.show()\n",
    "sys.exit(app.exec())"
   ]
  }
 ],
 "metadata": {
  "kernelspec": {
   "display_name": "qt4python",
   "language": "python",
   "name": "python3"
  },
  "language_info": {
   "codemirror_mode": {
    "name": "ipython",
    "version": 3
   },
   "file_extension": ".py",
   "mimetype": "text/x-python",
   "name": "python",
   "nbconvert_exporter": "python",
   "pygments_lexer": "ipython3",
   "version": "3.10.12"
  }
 },
 "nbformat": 4,
 "nbformat_minor": 2
}
