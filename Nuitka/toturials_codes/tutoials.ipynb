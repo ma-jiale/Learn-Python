{
 "cells": [
  {
   "cell_type": "markdown",
   "metadata": {},
   "source": [
    "# Tutorial to use Nuitka\n",
    "\n",
    "### What is Nuitka?\n",
    "Nuitka is the optimizing Python compiler written in Python that creates executables that run without a separate installer. Data files can both be included or put alongside.\n"
   ]
  },
  {
   "cell_type": "markdown",
   "metadata": {},
   "source": [
    "### Set up\n",
    "#### Install Nuitka"
   ]
  },
  {
   "cell_type": "code",
   "execution_count": null,
   "metadata": {
    "vscode": {
     "languageId": "powershell"
    }
   },
   "outputs": [],
   "source": [
    "python -m pip install nuitka"
   ]
  },
  {
   "cell_type": "markdown",
   "metadata": {},
   "source": [
    "Verify using command"
   ]
  },
  {
   "cell_type": "code",
   "execution_count": null,
   "metadata": {
    "vscode": {
     "languageId": "powershell"
    }
   },
   "outputs": [],
   "source": [
    "python -m nuitka --version"
   ]
  },
  {
   "cell_type": "markdown",
   "metadata": {},
   "source": [
    "(pill-dispenser) PS D:\\Repos\\Learn-Python\\Nuitka> python -m nuitka --version  \n",
    "2.7.5  \n",
    "Commercial: None  \n",
    "Python: 3.10.12 | packaged by Anaconda, Inc. | (main, Jul  5 2023, 19:01:18) [MSC v.1916 64 bit (AMD64)]  \n",
    "Flavor: Anaconda Python  \n",
    "Executable: ~\\.conda\\envs\\pill-dispenser\\python.exe  \n",
    "OS: Windows  \n",
    "Arch: x86_64  \n",
    "WindowsRelease: 11  \n",
    "Version C compiler: C:\\Program Files\\Microsoft Visual Studio\\2022\\Community\\VC\\Tools\\MSVC\\14.38.33130\\bin\\Hostx64\\x64\\cl.exe (cl 14.3).  "
   ]
  },
  {
   "cell_type": "markdown",
   "metadata": {},
   "source": [
    "### a example to create executable from simple .py file\n",
    "Test the program first"
   ]
  },
  {
   "cell_type": "code",
   "execution_count": null,
   "metadata": {
    "vscode": {
     "languageId": "powershell"
    }
   },
   "outputs": [],
   "source": [
    "python ./hello_world/main.py"
   ]
  },
  {
   "cell_type": "markdown",
   "metadata": {},
   "source": [
    "Build it using"
   ]
  },
  {
   "cell_type": "code",
   "execution_count": null,
   "metadata": {
    "vscode": {
     "languageId": "powershell"
    }
   },
   "outputs": [],
   "source": [
    "python -m nuitka ./hello_world/main.py"
   ]
  },
  {
   "cell_type": "markdown",
   "metadata": {},
   "source": [
    "After wait a little, we can run it by executing the main.exe"
   ]
  },
  {
   "cell_type": "code",
   "execution_count": null,
   "metadata": {
    "vscode": {
     "languageId": "powershell"
    }
   },
   "outputs": [],
   "source": [
    "main.exe"
   ]
  },
  {
   "cell_type": "markdown",
   "metadata": {},
   "source": [
    "Notice: if you run main.exe by clicking it instead of running it from command prompt, you probably will see this error: \"由于找不到 python310.dll，无法继续执行代码。重新安装程序可能会解决此问题。\" The error occurs because when you double-click the executable, it doesn't have access to the Python environment's DLL path, unlike when running from command prompt where the PATH environment is available.  \n",
    "\n",
    "solution: Use Standalone Mode"
   ]
  },
  {
   "cell_type": "code",
   "execution_count": null,
   "metadata": {
    "vscode": {
     "languageId": "powershell"
    }
   },
   "outputs": [],
   "source": [
    "python -m nuitka ./hello_world/main.py --standalone"
   ]
  },
  {
   "cell_type": "markdown",
   "metadata": {},
   "source": [
    "Now we can run mian.exe by double-click main.exe in main.dist folder\n",
    "Additionally, we can also try --onefile which does create a single file"
   ]
  },
  {
   "cell_type": "code",
   "execution_count": null,
   "metadata": {
    "vscode": {
     "languageId": "powershell"
    }
   },
   "outputs": [],
   "source": [
    "python -m nuitka ./hello_world/main.py --standalone --onefile"
   ]
  },
  {
   "cell_type": "markdown",
   "metadata": {
    "vscode": {
     "languageId": "powershell"
    }
   },
   "source": [
    "Notice: If you see an error like \"Error,load DLL. ([Error 225] Operation did not complete successfully because the file contains a virus or potentially unwanted software.)\" when you running the main.exe, that's because the executables built by Nuitka sometimes will be tagged as virus by antivirus software due to false positives. This happens because compiled Python executables can exhibit behavior patterns similar to malware (such as dynamic code execution and memory manipulation). To resolve this, add your project folder to your antivirus exclusion list or temporarily disable real-time protection during compilation and execution."
   ]
  }
 ],
 "metadata": {
  "kernelspec": {
   "display_name": "pill-dispenser",
   "language": "python",
   "name": "python3"
  },
  "language_info": {
   "codemirror_mode": {
    "name": "ipython",
    "version": 3
   },
   "file_extension": ".py",
   "mimetype": "text/x-python",
   "name": "python",
   "nbconvert_exporter": "python",
   "pygments_lexer": "ipython3",
   "version": "3.10.12"
  }
 },
 "nbformat": 4,
 "nbformat_minor": 2
}
